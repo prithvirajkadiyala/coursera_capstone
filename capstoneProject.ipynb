{
 "metadata": {
  "language_info": {
   "codemirror_mode": {
    "name": "ipython",
    "version": 3
   },
   "file_extension": ".py",
   "mimetype": "text/x-python",
   "name": "python",
   "nbconvert_exporter": "python",
   "pygments_lexer": "ipython3",
   "version": "3.8.5-final"
  },
  "orig_nbformat": 2,
  "kernelspec": {
   "name": "python3",
   "display_name": "Python 3",
   "language": "python"
  }
 },
 "nbformat": 4,
 "nbformat_minor": 2,
 "cells": [
  {
   "source": [
    "Introducing the new project created for the Coursera Capstone.\n",
    "Welcome to the project.\n",
    "\n",
    "My name is Prithviraj Kadiyala.\n",
    "\n",
    "I intend to finish this project and find more jobs in the field of Data Science."
   ],
   "cell_type": "markdown",
   "metadata": {}
  },
  {
   "cell_type": "code",
   "execution_count": 1,
   "metadata": {},
   "outputs": [],
   "source": [
    "import pandas as pd\n",
    "import numpy as np"
   ]
  },
  {
   "source": [
    "Hello Capstone Project course!!"
   ],
   "cell_type": "markdown",
   "metadata": {}
  }
 ]
}